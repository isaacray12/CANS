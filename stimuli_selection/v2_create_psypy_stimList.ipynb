{
 "cells": [
  {
   "cell_type": "code",
   "execution_count": 1,
   "metadata": {
    "tags": []
   },
   "outputs": [],
   "source": [
    "%matplotlib inline\n",
    "#from pycocotools.coco import COCO\n",
    "import numpy as np\n",
    "import skimage.io as io\n",
    "import matplotlib.pyplot as plt\n",
    "import pylab\n",
    "pylab.rcParams['figure.figsize'] = (8.0, 10.0)"
   ]
  },
  {
   "cell_type": "code",
   "execution_count": 2,
   "metadata": {},
   "outputs": [],
   "source": [
    "import random\n",
    "import pandas as pd\n",
    "import shutil\n",
    "import os"
   ]
  },
  {
   "cell_type": "code",
   "execution_count": null,
   "metadata": {},
   "outputs": [],
   "source": []
  },
  {
   "cell_type": "code",
   "execution_count": 3,
   "metadata": {
    "tags": []
   },
   "outputs": [],
   "source": [
    "dataDir='/Users/isaacchristian/Desktop/Princeton/RESEARCH/CANS/'\n",
    "dataType='val2017'\n",
    "annFile='{}/annotations/instances_{}.json'.format(dataDir,dataType)"
   ]
  },
  {
   "cell_type": "code",
   "execution_count": 4,
   "metadata": {},
   "outputs": [
    {
     "ename": "NameError",
     "evalue": "name 'COCO' is not defined",
     "output_type": "error",
     "traceback": [
      "\u001b[0;31m---------------------------------------------------------------------------\u001b[0m",
      "\u001b[0;31mNameError\u001b[0m                                 Traceback (most recent call last)",
      "Cell \u001b[0;32mIn[4], line 2\u001b[0m\n\u001b[1;32m      1\u001b[0m \u001b[38;5;66;03m# initialize COCO api for instance annotations\u001b[39;00m\n\u001b[0;32m----> 2\u001b[0m coco\u001b[38;5;241m=\u001b[39m\u001b[43mCOCO\u001b[49m(annFile)\n",
      "\u001b[0;31mNameError\u001b[0m: name 'COCO' is not defined"
     ]
    }
   ],
   "source": [
    "# initialize COCO api for instance annotations\n",
    "coco=COCO(annFile)"
   ]
  },
  {
   "cell_type": "code",
   "execution_count": null,
   "metadata": {
    "scrolled": true
   },
   "outputs": [],
   "source": [
    "# display COCO categories and supercategories\n",
    "cats = coco.loadCats(coco.getCatIds())\n",
    "nms=[cat['name'] for cat in cats]\n",
    "print('COCO categories: \\n{}\\n'.format(' '.join(nms)))\n",
    "\n",
    "nms = set([cat['supercategory'] for cat in cats])\n",
    "print('COCO supercategories: \\n{}'.format(' '.join(nms)))"
   ]
  },
  {
   "cell_type": "markdown",
   "metadata": {},
   "source": [
    "# Begin "
   ]
  },
  {
   "cell_type": "code",
   "execution_count": 6,
   "metadata": {},
   "outputs": [],
   "source": [
    "## SET SEED ### "
   ]
  },
  {
   "cell_type": "code",
   "execution_count": 9,
   "metadata": {},
   "outputs": [],
   "source": [
    "random.seed(10)"
   ]
  },
  {
   "cell_type": "markdown",
   "metadata": {},
   "source": [
    "# Create stim list"
   ]
  },
  {
   "cell_type": "code",
   "execution_count": null,
   "metadata": {},
   "outputs": [],
   "source": []
  },
  {
   "cell_type": "code",
   "execution_count": 1,
   "metadata": {
    "tags": []
   },
   "outputs": [],
   "source": [
    "%matplotlib inline\n",
    "#from pycocotools.coco import COCO\n",
    "import numpy as np\n",
    "import skimage.io as io\n",
    "import matplotlib.pyplot as plt\n",
    "import pylab\n",
    "pylab.rcParams['figure.figsize'] = (8.0, 10.0)"
   ]
  },
  {
   "cell_type": "code",
   "execution_count": 2,
   "metadata": {},
   "outputs": [],
   "source": [
    "import random\n",
    "import pandas as pd\n",
    "import shutil\n",
    "import os"
   ]
  },
  {
   "cell_type": "code",
   "execution_count": 3,
   "metadata": {},
   "outputs": [],
   "source": [
    "dataDir='/Users/isaacchristian/Desktop/Princeton/RESEARCH/CANS/study_data/'\n",
    "# used this file for subs 1-6 # *** sub13 contains extra 8 capgaze \n",
    "master_file = 'capgaze_master_n1238of1629.csv'\n",
    "# not sure about this one \n",
    "master_file = 'train2017_n700of4866sample_4-4-23-PART4.csv'\n",
    "# used this file (i think) for subjects 7-13\n",
    "#master_file = 'train2017_n1100of4866sample_3-6-23-PART4.csv'\n",
    "## used this ffile for sub 11-17. However, removed some of subject 17 train2017 and inserted \n",
    "# the pics from capgaze that sub004 failed to caption\n",
    "master_file = 'train2017_n2500of4866sample_sub11-17.csv'\n",
    "\n",
    "# used 800/1584 from the below file for subjects 14-17# \n",
    "#master_file = 'train2017_1584of4866sample_3-19-23-PART4.csv'\n",
    "# used this file for final three subjects \n",
    "master_file = 'val2017_n600.csv'\n",
    "\n",
    "img_loc = '/Users/isaacchristian/Desktop/Princeton/RESEARCH/CANS/study_data/train2017_coco_4866/'\n",
    "directory_prefix = 'final_stim_list'\n",
    "sav_dir = '/Users/isaacchristian/Desktop/Princeton/RESEARCH/CANS/study_data/' + directory_prefix\n",
    "\n",
    "# folder #\n",
    "fold = 'train2017_coco_4866/'\n",
    "fold = 'val2017/'"
   ]
  },
  {
   "cell_type": "code",
   "execution_count": 6,
   "metadata": {},
   "outputs": [
    {
     "data": {
      "text/plain": [
       "\"\\nDocumentation:\\n- 6 subjects ranging from 30-1220 using 'capgaze_master_n1238of1629.csv'\\n-sub-004 only completed 3 runs, so 120 images from 'capgaze_master_n1238of1629.csv'\\n\""
      ]
     },
     "execution_count": 6,
     "metadata": {},
     "output_type": "execute_result"
    }
   ],
   "source": [
    "\"\"\"\n",
    "Documentation:\n",
    "- 6 subjects ranging from 30-1220 using 'capgaze_master_n1238of1629.csv'\n",
    "-sub-004 only completed 3 runs, so 120 images from 'capgaze_master_n1238of1629.csv'\n",
    "\"\"\"\n"
   ]
  },
  {
   "cell_type": "code",
   "execution_count": 7,
   "metadata": {},
   "outputs": [],
   "source": [
    "# \n",
    "sub_list = np.arange(18,21)\n",
    "list_len = 200\n",
    "dat = pd.read_csv(dataDir+master_file)"
   ]
  },
  {
   "cell_type": "code",
   "execution_count": 8,
   "metadata": {},
   "outputs": [
    {
     "name": "stdout",
     "output_type": "stream",
     "text": [
      "0 200 18\n",
      "200 400 19\n",
      "400 600 20\n"
     ]
    }
   ],
   "source": [
    "\n",
    "for ind, sub in enumerate(sub_list):\n",
    "    list_len = 200\n",
    "    start = ind*list_len\n",
    "    end = ind*list_len+list_len\n",
    "    sub_csv = dat.iloc[start:end,:]\n",
    "    clean_sub_csv = fold + sub_csv['imageLocation']\n",
    "    #print(len(sub_csv))\n",
    "    print(start, end, sub)\n",
    "    #assert len(clean_sub_csv) == list_len\n",
    "    clean_sub_csv.to_csv(sav_dir+\"/sub-\" + str(sub).zfill(3)+'_stimuli.csv', header=True, index=False)\n",
    "    "
   ]
  },
  {
   "cell_type": "code",
   "execution_count": null,
   "metadata": {},
   "outputs": [],
   "source": []
  },
  {
   "cell_type": "code",
   "execution_count": 35,
   "metadata": {},
   "outputs": [
    {
     "data": {
      "text/plain": [
       "200    train2017_coco_4866/000000029020.jpg\n",
       "201    train2017_coco_4866/000000029104.jpg\n",
       "202    train2017_coco_4866/000000029942.jpg\n",
       "203    train2017_coco_4866/000000030340.jpg\n",
       "204    train2017_coco_4866/000000030437.jpg\n",
       "                       ...                 \n",
       "395    train2017_coco_4866/000000057645.jpg\n",
       "396    train2017_coco_4866/000000057753.jpg\n",
       "397    train2017_coco_4866/000000058035.jpg\n",
       "398    train2017_coco_4866/000000058141.jpg\n",
       "399    train2017_coco_4866/000000058179.jpg\n",
       "Name: file_name, Length: 200, dtype: object"
      ]
     },
     "execution_count": 35,
     "metadata": {},
     "output_type": "execute_result"
    }
   ],
   "source": []
  },
  {
   "cell_type": "markdown",
   "metadata": {},
   "source": [
    "# Master List # "
   ]
  },
  {
   "cell_type": "code",
   "execution_count": 15,
   "metadata": {},
   "outputs": [],
   "source": [
    "n=20"
   ]
  },
  {
   "cell_type": "code",
   "execution_count": 26,
   "metadata": {},
   "outputs": [
    {
     "name": "stderr",
     "output_type": "stream",
     "text": [
      "/var/folders/3n/pc76sg6108n3ygcr3f1dy8kh0000gn/T/ipykernel_42529/1746896336.py:5: VisibleDeprecationWarning: Creating an ndarray from ragged nested sequences (which is a list-or-tuple of lists-or-tuples-or ndarrays with different lengths or shapes) is deprecated. If you meant to do this, you must specify 'dtype=object' when creating the ndarray.\n",
      "  merged = np.hstack((np.asarray(master_list)))\n"
     ]
    }
   ],
   "source": [
    "master_list = []\n",
    "for sub in range(n):\n",
    "    dat = pd.read_csv(sav_dir+\"/sub-\" + str(sub).zfill(3)+'_stimuli.csv')\n",
    "    master_list.append(np.asarray(dat['imageLocation']))\n",
    "merged = np.hstack((np.asarray(master_list)))"
   ]
  },
  {
   "cell_type": "code",
   "execution_count": 30,
   "metadata": {},
   "outputs": [],
   "source": [
    "df = pd.DataFrame(merged)\n",
    "df.to_csv(sav_dir+'master_stim_list.csv',index=False)"
   ]
  },
  {
   "cell_type": "code",
   "execution_count": null,
   "metadata": {},
   "outputs": [],
   "source": []
  },
  {
   "cell_type": "code",
   "execution_count": null,
   "metadata": {},
   "outputs": [],
   "source": []
  },
  {
   "cell_type": "code",
   "execution_count": 5,
   "metadata": {},
   "outputs": [
    {
     "name": "stdout",
     "output_type": "stream",
     "text": [
      "sub is 1\n",
      "sub is 2\n",
      "sub is 3\n",
      "sub is 4\n",
      "sub is 5\n",
      "sub is 6\n"
     ]
    }
   ],
   "source": [
    "# check loop # \n",
    "for beg_img in range(int(start_img / img_per_sub),int(end_img / img_per_sub)):\n",
    "    print(f'sub is {beg_img+1}')"
   ]
  },
  {
   "cell_type": "code",
   "execution_count": 7,
   "metadata": {},
   "outputs": [],
   "source": [
    "dat = pd.read_csv(dataDir+master_file)"
   ]
  },
  {
   "cell_type": "code",
   "execution_count": 8,
   "metadata": {},
   "outputs": [
    {
     "data": {
      "text/html": [
       "<div>\n",
       "<style scoped>\n",
       "    .dataframe tbody tr th:only-of-type {\n",
       "        vertical-align: middle;\n",
       "    }\n",
       "\n",
       "    .dataframe tbody tr th {\n",
       "        vertical-align: top;\n",
       "    }\n",
       "\n",
       "    .dataframe thead th {\n",
       "        text-align: right;\n",
       "    }\n",
       "</style>\n",
       "<table border=\"1\" class=\"dataframe\">\n",
       "  <thead>\n",
       "    <tr style=\"text-align: right;\">\n",
       "      <th></th>\n",
       "      <th>ID</th>\n",
       "      <th>file_name</th>\n",
       "    </tr>\n",
       "  </thead>\n",
       "  <tbody>\n",
       "    <tr>\n",
       "      <th>0</th>\n",
       "      <td>109</td>\n",
       "      <td>000000000109.jpg</td>\n",
       "    </tr>\n",
       "    <tr>\n",
       "      <th>1</th>\n",
       "      <td>1523</td>\n",
       "      <td>000000001523.jpg</td>\n",
       "    </tr>\n",
       "    <tr>\n",
       "      <th>2</th>\n",
       "      <td>3000</td>\n",
       "      <td>000000003000.jpg</td>\n",
       "    </tr>\n",
       "    <tr>\n",
       "      <th>3</th>\n",
       "      <td>3276</td>\n",
       "      <td>000000003276.jpg</td>\n",
       "    </tr>\n",
       "    <tr>\n",
       "      <th>4</th>\n",
       "      <td>3521</td>\n",
       "      <td>000000003521.jpg</td>\n",
       "    </tr>\n",
       "    <tr>\n",
       "      <th>...</th>\n",
       "      <td>...</td>\n",
       "      <td>...</td>\n",
       "    </tr>\n",
       "    <tr>\n",
       "      <th>1233</th>\n",
       "      <td>579419</td>\n",
       "      <td>000000579419.jpg</td>\n",
       "    </tr>\n",
       "    <tr>\n",
       "      <th>1234</th>\n",
       "      <td>579899</td>\n",
       "      <td>000000579899.jpg</td>\n",
       "    </tr>\n",
       "    <tr>\n",
       "      <th>1235</th>\n",
       "      <td>580082</td>\n",
       "      <td>000000580082.jpg</td>\n",
       "    </tr>\n",
       "    <tr>\n",
       "      <th>1236</th>\n",
       "      <td>580507</td>\n",
       "      <td>000000580507.jpg</td>\n",
       "    </tr>\n",
       "    <tr>\n",
       "      <th>1237</th>\n",
       "      <td>581310</td>\n",
       "      <td>000000581310.jpg</td>\n",
       "    </tr>\n",
       "  </tbody>\n",
       "</table>\n",
       "<p>1238 rows × 2 columns</p>\n",
       "</div>"
      ],
      "text/plain": [
       "          ID         file_name\n",
       "0        109  000000000109.jpg\n",
       "1       1523  000000001523.jpg\n",
       "2       3000  000000003000.jpg\n",
       "3       3276  000000003276.jpg\n",
       "4       3521  000000003521.jpg\n",
       "...      ...               ...\n",
       "1233  579419  000000579419.jpg\n",
       "1234  579899  000000579899.jpg\n",
       "1235  580082  000000580082.jpg\n",
       "1236  580507  000000580507.jpg\n",
       "1237  581310  000000581310.jpg\n",
       "\n",
       "[1238 rows x 2 columns]"
      ]
     },
     "execution_count": 8,
     "metadata": {},
     "output_type": "execute_result"
    }
   ],
   "source": [
    "dat"
   ]
  },
  {
   "cell_type": "code",
   "execution_count": 9,
   "metadata": {},
   "outputs": [
    {
     "name": "stdout",
     "output_type": "stream",
     "text": [
      "subject 1\n",
      "beginning is 30\n",
      "end is 230\n",
      "subject 2\n",
      "beginning is 230\n",
      "end is 430\n",
      "subject 3\n",
      "beginning is 430\n",
      "end is 630\n",
      "subject 4\n",
      "beginning is 630\n",
      "end is 830\n",
      "subject 5\n",
      "beginning is 830\n",
      "end is 1030\n",
      "subject 6\n",
      "beginning is 1030\n",
      "end is 1230\n"
     ]
    }
   ],
   "source": [
    "for beg_img in range(int(start_img / img_per_sub),int(end_img / img_per_sub)):\n",
    "    first_img = beg_img*img_per_sub + start_img\n",
    "    end_img = first_img+img_per_sub\n",
    "    df = pd.DataFrame({\"imageLocation\": 'train_capgaze/' + dat.iloc[first_img:end_img,1]})\n",
    "    assert len(df) == img_per_sub\n",
    "    df.to_csv(sav_dir+\"/sub-\" + str(beg_img+1).zfill(3)+'_stimuli.csv', header=True, index=False)\n",
    "    \n",
    "    print(\"subject\", beg_img+1)\n",
    "    print(f'beginning is {first_img}')\n",
    "    print(f'end is {end_img}')\n",
    "    "
   ]
  },
  {
   "cell_type": "code",
   "execution_count": null,
   "metadata": {},
   "outputs": [],
   "source": []
  },
  {
   "cell_type": "code",
   "execution_count": null,
   "metadata": {},
   "outputs": [],
   "source": [
    "\"\"\"\n",
    "Documentation:\n",
    "- sub-000 is 50 images (my captioning)\n",
    "- sub-001 to sub-002: 50-450\n",
    "\n",
    "\"\"\""
   ]
  },
  {
   "cell_type": "code",
   "execution_count": 46,
   "metadata": {},
   "outputs": [
    {
     "data": {
      "text/plain": [
       "1"
      ]
     },
     "execution_count": 46,
     "metadata": {},
     "output_type": "execute_result"
    }
   ],
   "source": [
    "beg_img"
   ]
  },
  {
   "cell_type": "code",
   "execution_count": 48,
   "metadata": {},
   "outputs": [
    {
     "data": {
      "text/plain": [
       "array([ 50, 250])"
      ]
     },
     "execution_count": 48,
     "metadata": {},
     "output_type": "execute_result"
    }
   ],
   "source": [
    "np.arange(start_img, end_img, img_per_sub)"
   ]
  },
  {
   "cell_type": "code",
   "execution_count": null,
   "metadata": {},
   "outputs": [],
   "source": [
    "np.arange(start_img, end_img, img_per_sub)"
   ]
  },
  {
   "cell_type": "markdown",
   "metadata": {},
   "source": [
    "# All stim # \n"
   ]
  },
  {
   "cell_type": "code",
   "execution_count": 4,
   "metadata": {},
   "outputs": [],
   "source": [
    "dataDir='/Users/isaacchristian/Desktop/Princeton/RESEARCH/CANS/study_data/'\n",
    "# used this file for subs 1-6 # *** sub13 contains extra 8 capgaze \n",
    "directory_prefix = 'final_stim_list'"
   ]
  },
  {
   "cell_type": "code",
   "execution_count": 29,
   "metadata": {
    "collapsed": true,
    "jupyter": {
     "outputs_hidden": true
    }
   },
   "outputs": [
    {
     "name": "stdout",
     "output_type": "stream",
     "text": [
      "sub-001_stimuli.csv\n",
      "sub-002_stimuli.csv\n",
      "sub-003_stimuli.csv\n",
      "sub-004_stimuli.csv\n",
      "sub-005_stimuli.csv\n",
      "sub-006_stimuli.csv\n",
      "sub-007_stimuli.csv\n",
      "sub-008_stimuli.csv\n",
      "sub-009_stimuli.csv\n",
      "sub-010_stimuli.csv\n",
      "sub-011_stimuli.csv\n",
      "sub-012_stimuli.csv\n",
      "sub-013_stimuli.csv\n",
      "sub-014_stimuli.csv\n",
      "sub-015_stimuli.csv\n",
      "sub-016_stimuli.csv\n",
      "sub-017_stimuli.csv\n",
      "sub-018_stimuli.csv\n",
      "sub-019_stimuli.csv\n",
      "sub-020_stimuli.csv\n"
     ]
    }
   ],
   "source": [
    "x = pd.DataFrame()\n",
    "for sub in range(1,21):\n",
    "    print(f\"sub-{sub:03d}_stimuli.csv\")\n",
    "    new_sub = pd.read_csv(f'{dataDir}{directory_prefix}/sub-{sub:03d}_stimuli.csv')\n",
    "    x = pd.concat((x,new_sub),axis=0)\n",
    "    "
   ]
  },
  {
   "cell_type": "code",
   "execution_count": 35,
   "metadata": {},
   "outputs": [
    {
     "data": {
      "text/html": [
       "<div>\n",
       "<style scoped>\n",
       "    .dataframe tbody tr th:only-of-type {\n",
       "        vertical-align: middle;\n",
       "    }\n",
       "\n",
       "    .dataframe tbody tr th {\n",
       "        vertical-align: top;\n",
       "    }\n",
       "\n",
       "    .dataframe thead th {\n",
       "        text-align: right;\n",
       "    }\n",
       "</style>\n",
       "<table border=\"1\" class=\"dataframe\">\n",
       "  <thead>\n",
       "    <tr style=\"text-align: right;\">\n",
       "      <th></th>\n",
       "      <th>imageLocation</th>\n",
       "    </tr>\n",
       "  </thead>\n",
       "  <tbody>\n",
       "    <tr>\n",
       "      <th>0</th>\n",
       "      <td>train_capgaze/000000017883.jpg</td>\n",
       "    </tr>\n",
       "    <tr>\n",
       "      <th>1</th>\n",
       "      <td>train_capgaze/000000017938.jpg</td>\n",
       "    </tr>\n",
       "    <tr>\n",
       "      <th>2</th>\n",
       "      <td>train_capgaze/000000017962.jpg</td>\n",
       "    </tr>\n",
       "    <tr>\n",
       "      <th>3</th>\n",
       "      <td>train_capgaze/000000018020.jpg</td>\n",
       "    </tr>\n",
       "    <tr>\n",
       "      <th>4</th>\n",
       "      <td>train_capgaze/000000020702.jpg</td>\n",
       "    </tr>\n",
       "    <tr>\n",
       "      <th>...</th>\n",
       "      <td>...</td>\n",
       "    </tr>\n",
       "    <tr>\n",
       "      <th>195</th>\n",
       "      <td>val2017/000000513567.jpg</td>\n",
       "    </tr>\n",
       "    <tr>\n",
       "      <th>196</th>\n",
       "      <td>val2017/000000207844.jpg</td>\n",
       "    </tr>\n",
       "    <tr>\n",
       "      <th>197</th>\n",
       "      <td>val2017/000000157601.jpg</td>\n",
       "    </tr>\n",
       "    <tr>\n",
       "      <th>198</th>\n",
       "      <td>val2017/000000433204.jpg</td>\n",
       "    </tr>\n",
       "    <tr>\n",
       "      <th>199</th>\n",
       "      <td>val2017/000000025096.jpg</td>\n",
       "    </tr>\n",
       "  </tbody>\n",
       "</table>\n",
       "<p>4000 rows × 1 columns</p>\n",
       "</div>"
      ],
      "text/plain": [
       "                      imageLocation\n",
       "0    train_capgaze/000000017883.jpg\n",
       "1    train_capgaze/000000017938.jpg\n",
       "2    train_capgaze/000000017962.jpg\n",
       "3    train_capgaze/000000018020.jpg\n",
       "4    train_capgaze/000000020702.jpg\n",
       "..                              ...\n",
       "195        val2017/000000513567.jpg\n",
       "196        val2017/000000207844.jpg\n",
       "197        val2017/000000157601.jpg\n",
       "198        val2017/000000433204.jpg\n",
       "199        val2017/000000025096.jpg\n",
       "\n",
       "[4000 rows x 1 columns]"
      ]
     },
     "execution_count": 35,
     "metadata": {},
     "output_type": "execute_result"
    }
   ],
   "source": [
    "x"
   ]
  },
  {
   "cell_type": "code",
   "execution_count": 33,
   "metadata": {},
   "outputs": [],
   "source": [
    "x.to_csv(dataDir+'master_stim_list-4-25.csv')"
   ]
  },
  {
   "cell_type": "code",
   "execution_count": 32,
   "metadata": {},
   "outputs": [
    {
     "data": {
      "text/plain": [
       "'/Users/isaacchristian/Desktop/Princeton/RESEARCH/CANS/study_data/'"
      ]
     },
     "execution_count": 32,
     "metadata": {},
     "output_type": "execute_result"
    }
   ],
   "source": [
    "dataDir"
   ]
  },
  {
   "cell_type": "code",
   "execution_count": null,
   "metadata": {},
   "outputs": [],
   "source": []
  }
 ],
 "metadata": {
  "kernelspec": {
   "display_name": "Python 3",
   "language": "python",
   "name": "python3"
  },
  "language_info": {
   "codemirror_mode": {
    "name": "ipython",
    "version": 3
   },
   "file_extension": ".py",
   "mimetype": "text/x-python",
   "name": "python",
   "nbconvert_exporter": "python",
   "pygments_lexer": "ipython3",
   "version": "3.8.3"
  }
 },
 "nbformat": 4,
 "nbformat_minor": 4
}
